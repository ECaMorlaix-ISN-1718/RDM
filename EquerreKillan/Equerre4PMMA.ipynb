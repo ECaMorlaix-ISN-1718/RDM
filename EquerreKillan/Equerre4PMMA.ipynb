{
 "cells": [
  {
   "cell_type": "markdown",
   "metadata": {},
   "source": [
    "# Equerre 4 en PMMA"
   ]
  },
  {
   "cell_type": "markdown",
   "metadata": {},
   "source": [
    "### Respect des contraintes"
   ]
  },
  {
   "cell_type": "markdown",
   "metadata": {},
   "source": [
    "| cahier des charges  |      Valeurs      | Résultats |\n",
    "|----------|:-------------:|-----:|\n",
    "| déplacement max de l'équerre < 1mm | 3.0mm | Non respecté |\n",
    "| Masse de l'équerre < 200g |    170.13g  |   Respecté |\n",
    "| Limite d'élasticité non atteinte | Non spécifié | - |"
   ]
  },
  {
   "cell_type": "markdown",
   "metadata": {},
   "source": [
    "####Contraintes :",
    "![Logo du Lycee Notre Dame Du Mur](IMG/Capture4PMMA.PNG \"Logo du Lycee Notre Dame Du Mur de Morlaix\")"
   ]
  },
  {
   "cell_type": "markdown",
   "metadata": {},
   "source": [
    "####Déplacements :",
    "![Logo du Lycee Notre Dame Du Mur](IMG/Capture4-1PMMA.PNG \"Logo du Lycee Notre Dame Du Mur de Morlaix\")"
   ]
  },
  {
   "cell_type": "markdown",
   "metadata": {},
   "source": [
    "####Caractéristiques :",
    "![Logo du Lycee Notre Dame Du Mur](IMG/Capture4-2PMMA.PNG \"Logo du Lycee Notre Dame Du Mur de Morlaix\")"
   ]
  },
  
  {
   "cell_type": "code",
   "execution_count": null,
   "metadata": {
    "collapsed": true
   },
   "outputs": [],
   "source": []
  }
 ],
 "metadata": {
  "kernelspec": {
   "display_name": "Python 3",
   "language": "python",
   "name": "python3"
  },
  "language_info": {
   "codemirror_mode": {
    "name": "ipython",
    "version": 3
   },
   "file_extension": ".py",
   "mimetype": "text/x-python",
   "name": "python",
   "nbconvert_exporter": "python",
   "pygments_lexer": "ipython3",
   "version": "3.6.1"
  }
 },
 "nbformat": 4,
 "nbformat_minor": 2
}
