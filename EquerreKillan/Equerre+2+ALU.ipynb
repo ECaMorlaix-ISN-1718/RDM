{
 "cells": [
  {
   "cell_type": "markdown",
   "metadata": {},
   "source": [
    "# Equerre 2 en PMMA"
   ]
  },
  {
   "cell_type": "markdown",
   "metadata": {},
   "source": [
    "### Respect des contraintes"
   ]
  },
  {
   "cell_type": "markdown",
   "metadata": {},
   "source": [
    "| cahier des charges  |      Valeurs      | Résultats |\n",
    "|----------|:-------------:|-----:|\n",
    "| déplacement max de l'équerre < 1mm | 28mm | Non respecté |\n",
    "| Masse de l'équerre < 200g |    140.69g  |   Respecté |\n",
    "| Limite d'élasticité non atteinte | - | Non respecté |"
   ]
  },
  {
   "cell_type": "markdown",
   "metadata": {},
   "source": [
    "trudghjietdjtyjitjutr-ju"
    "![Logo du Lycee Notre Dame Du Mur](IMG/Capture2ALU.PNG \"Logo du Lycee Notre Dame Du Mur de Morlaix\")"
   ]
  },
  {
   "cell_type": "markdown",
   "metadata": {
    "collapsed": true
   },
   "source": [
    "![Logo du Lycee Notre Dame Du Mur](IMG/Capture2-1ALU.PNG \"Logo du Lycee Notre Dame Du Mur de Morlaix\")"
   ]
  },
  {
   "cell_type": "markdown",
   "metadata": {
    "collapsed": true
   },
   "source": [
    "![Logo du Lycee Notre Dame Du Mur](IMG/Capture2-2ALU.PNG \"Logo du Lycee Notre Dame Du Mur de Morlaix\")"
   ]
  },
  
  {
   "cell_type": "code",
   "execution_count": null,
   "metadata": {
    "collapsed": true
   },
   "outputs": [],
   "source": []
  }
 ],
 "metadata": {
  "kernelspec": {
   "display_name": "Python 3",
   "language": "python",
   "name": "python3"
  },
  "language_info": {
   "codemirror_mode": {
    "name": "ipython",
    "version": 3
   },
   "file_extension": ".py",
   "mimetype": "text/x-python",
   "name": "python",
   "nbconvert_exporter": "python",
   "pygments_lexer": "ipython3",
   "version": "3.6.1"
  }
 },
 "nbformat": 4,
 "nbformat_minor": 2
}
