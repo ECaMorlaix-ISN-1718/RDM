{
 "cells": [
  {
   "cell_type": "markdown",
   "metadata": {},
   "source": [
    "**Equerre 1**  \n",
    "Aluminium type 1060  \n",
    "Nous devons déterminer si cette équerre respecte le cahier des charges. \n",
    "Pour cela nous effectuons des tests par simulation :"
   ]
  },
  {
   "cell_type": "markdown",
   "metadata": {},
   "source": [
    "Ci-dessous la limite d'élasticité :"
   ]
  },
  {
   "cell_type": "markdown",
   "metadata": {},
   "source": [
    "![Contrainte](equerre1-1alu.PNG)"
   ]
  },
  {
   "cell_type": "markdown",
   "metadata": {},
   "source": [
    "Ci-dessous le déplacement :"
   ]
  },
  {
   "cell_type": "markdown",
   "metadata": {},
   "source": [
    "![Déplacement](equerre1-alu-dép.PNG)"
   ]
  },
  {
   "cell_type": "markdown",
   "metadata": {},
   "source": [
    "Ci-dessous la déformation :"
   ]
  },
  {
   "cell_type": "markdown",
   "metadata": {},
   "source": [
    "![Déformation](equerre1-alu-déf.PNG)"
   ]
  },
  {
   "cell_type": "markdown",
   "metadata": {},
   "source": [
    "|        Critères         | Elastisité | Déplacement |     Masse     |\n",
    "|-------------------------|:----------:|------------:|--------------:|\n",
    "| Cahier des charges      |non atteinte|< 1mm        |max:200 grammes|\n",
    "| Valeurs par simulation  |ateinte     |5.079mm      |301.69 grammes |\n",
    "| Conclusion              |Non respecté|Non respecté |Non respecté   |"
   ]
  }
 ],
  {
   "cell_type": "markdown",
   "metadata": {},
   "source": [
    "Cette équerre ne respecte aucun des trois points du cahier des charges"
   ]
  },
 "metadata": {
  "kernelspec": {
   "display_name": "Python 3",
   "language": "python",
   "name": "python3"
  },
  "language_info": {
   "codemirror_mode": {
    "name": "ipython",
    "version": 3
   },
   "file_extension": ".py",
   "mimetype": "text/x-python",
   "name": "python",
   "nbconvert_exporter": "python",
   "pygments_lexer": "ipython3",
   "version": "3.6.1"
  }
 },
 "nbformat": 4,
 "nbformat_minor": 2
}
