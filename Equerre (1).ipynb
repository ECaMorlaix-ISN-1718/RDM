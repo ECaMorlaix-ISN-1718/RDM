{
 "cells": [
  {
   "cell_type": "markdown",
   "metadata": {},
   "source": [
    "**Equerre 1**  \n",
    "Aluminium type 1060  \n",
    "Nous devons déterminer si cette équerre respecte le cahier des charges. \n",
    "Pour cela nous effectuons des tests par simulation :"
   ]
  },
  {
   "cell_type": "markdown",
   "metadata": {},
   "source": [
    "![Contrainte](Documents/Nora/equerrecontrainte.PNG)"
   ]
  },
  {
   "cell_type": "markdown",
   "metadata": {},
   "source": [
    "![Déplacement](Documents/Nora/equerredeplacement.PNG)"
   ]
  },
  {
   "cell_type": "markdown",
   "metadata": {},
   "source": [
    "![Déformation](Documents/Nora/equerredeformation.PNG)"
   ]
  },
  {
   "cell_type": "markdown",
   "metadata": {},
   "source": [
    "|           X             | Elastisité | Déplacement | Contrainte |\n",
    "|------------------------|:----------:|------------:|-----------:|\n",
    "| Cahier des charges     |   | |\n",
    "| Données par simulation |   | |\n",
    "|  |   | |"
   ]
  }
 ],
 "metadata": {
  "kernelspec": {
   "display_name": "Python 3",
   "language": "python",
   "name": "python3"
  },
  "language_info": {
   "codemirror_mode": {
    "name": "ipython",
    "version": 3
   },
   "file_extension": ".py",
   "mimetype": "text/x-python",
   "name": "python",
   "nbconvert_exporter": "python",
   "pygments_lexer": "ipython3",
   "version": "3.6.1"
  }
 },
 "nbformat": 4,
 "nbformat_minor": 2
}
