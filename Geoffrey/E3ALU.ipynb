{
 "cells": [
  {
   "cell_type": "markdown",
   "metadata": {},
   "source": [
    "Équerre n°3"
   ]
  },
  {
   "cell_type": "markdown",
   "metadata": {},
   "source": [
    "Matériau: Alliage d'aluminium type 60"
   ]
  },
  {
   "cell_type": "markdown",
   "metadata": {},
   "source": [
    "Masse = 66.63 grammes"
   ]
  },
  {
   "cell_type": "markdown",
   "metadata": {},
   "source": [
    "Masse maximale : 200 g  \n",
    "Masse de l'équerre : 66.63 g  \n",
    "Carhier des charges respécté"
   ]
  },
  {
   "cell_type": "markdown",
   "metadata": {},
   "source": [
    "Déplacement maximal : 1 mm  \n",
    "Déplacement simulé : 1.254 mm  \n",
    "Cahier des charges non respecté"
   ]
  },
  {
   "cell_type": "markdown",
   "metadata": {},
   "source": [
    "\n",
    "Limite d'élasticité : 2.757e+7 N/m^2  \n",
    "Contraintes simulé : 7.870e+7 N/m^2  \n",
    "Cahier des charges non respecté\n"
   ]
  },
  {
   "cell_type": "markdown",
   "metadata": {},
   "source": [
    "Contraintes : "
   ]
  },
  {
   "cell_type": "markdown",
   "metadata": {},
   "source": [
    "![Contraintes de l'équerre 3 Aluminium](ContraintesALU3.png)"
   ]
  },
  {
   "cell_type": "markdown",
   "metadata": {},
   "source": [
    "Déplacements : "
   ]
  },
  {
   "cell_type": "markdown",
   "metadata": {},
   "source": [
    "![Déplacements de l'équerre 3 Aluminium](DeplacementsALU3.png)"
   ]
  },
  {
   "cell_type": "markdown",
   "metadata": {},
   "source": [
    "Déformations : "
   ]
  },
  {
   "cell_type": "markdown",
   "metadata": {},
   "source": [
    "![Déformations de l'équerre 3 Aluminium](DeformationsALU3.png)"
   ]
  }
 ],
 "metadata": {
  "kernelspec": {
   "display_name": "Python 3",
   "language": "python",
   "name": "python3"
  },
  "language_info": {
   "codemirror_mode": {
    "name": "ipython",
    "version": 3
   },
   "file_extension": ".py",
   "mimetype": "text/x-python",
   "name": "python",
   "nbconvert_exporter": "python",
   "pygments_lexer": "ipython3",
   "version": "3.6.3"
  }
 },
 "nbformat": 4,
 "nbformat_minor": 2
}
