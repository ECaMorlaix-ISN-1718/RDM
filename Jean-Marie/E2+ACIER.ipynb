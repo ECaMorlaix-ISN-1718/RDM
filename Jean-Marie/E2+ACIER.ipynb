{
 "cells": [
  {
   "cell_type": "markdown",
   "metadata": {},
   "source": [
    "# Equerre 2 - Acier AISI 1020\n",
    "Le but est de déterminer si l'équerre 2 en acier respecte le cahier des charges"
   ]
  },
  {
   "cell_type": "markdown",
   "metadata": {},
   "source": [
    "|         cahier des charges             |   Valeurs    |   Résultats  |\n",
    "|----------------------------------------|:------------:|:------------:|\n",
    "| Masse de l'équerre < 200g              |    411g      | Non respecté |\n",
    "| Déplacement maximlal sous charge < 1mm |    9,8mm     | Non respecté |\n",
    "| Limite délasticité non atteinte        |   atteinte   | Non respecté |"
   ]
  },
  {
   "cell_type": "markdown",
   "metadata": {},
   "source": [
    "Contraintes:\n",
    "![Déplacement](imgrdm/ScreenContraintesE2ACIER.PNG)"
   ]
  },
  {
   "cell_type": "markdown",
   "metadata": {},
   "source": [
    "Déplacements:\n",
    "<img src=\"imgrdm/ScreenDeplacementsE2ACIER.png\" alt=\"Deplacements\" width=90%>"
   ]
  },
  {
   "cell_type": "markdown",
   "metadata": {},
   "source": [
    "Déformations:\n",
    "<img src=\"imgrdm/ScreenDeformationsE2ACIER.png\" alt=\"Deformations\" width=90%>"
   ]
  }
 ],
 "metadata": {
  "kernelspec": {
   "display_name": "Python 3",
   "language": "python",
   "name": "python3"
  },
  "language_info": {
   "codemirror_mode": {
    "name": "ipython",
    "version": 3
   },
   "file_extension": ".py",
   "mimetype": "text/x-python",
   "name": "python",
   "nbconvert_exporter": "python",
   "pygments_lexer": "ipython3",
   "version": "3.6.0"
  }
 },
 "nbformat": 4,
 "nbformat_minor": 2
}
