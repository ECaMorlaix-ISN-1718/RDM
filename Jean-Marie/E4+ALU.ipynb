{
 "cells": [
  {
   "cell_type": "markdown",
   "metadata": {},
   "source": [
    "# Equerre 4 - Alliage Aluminium 1060\n",
    "Le but est de déterminer si l'équerre 4 en aluminium respecte le cahier des charges"
   ]
  },
  {
   "cell_type": "markdown",
   "metadata": {},
   "source": [
    "|         cahier des charges             |     Valeurs      |   Résultats  |\n",
    "|----------------------------------------|:----------------:|:------------:|\n",
    "| Masse de l'équerre < 200g              |      386g        | Non respecté |\n",
    "| Déplacement maximlal sous charge < 1mm |      1.09mm      | Non respecté |\n",
    "| Limite délasticité non atteinte        |   non atteinte   | Non respecté |"
   ]
  },
  {
   "cell_type": "markdown",
   "metadata": {},
   "source": [
    "Contraintes:\n",
    "<img src=\"imgrdm/ScreenContraintesE4ALU.png\" alt=\"Contraintes\" width=90%>"
   ]
  },
  {
   "cell_type": "markdown",
   "metadata": {},
   "source": [
    "Déplacements:\n",
    "<img src=\"imgrdm/ScreenDeplacementsE4ALU.png\" alt=\"Deplacements\" width=90%>"
   ]
  },
  {
   "cell_type": "markdown",
   "metadata": {},
   "source": [
    "Déformations:\n",
    "<img src=\"imgrdm/ScreenDeformationsE4ALU.png\" alt=\"Deformations\" width=90%>"
   ]
  }
 ],
 "metadata": {
  "kernelspec": {
   "display_name": "Python 3",
   "language": "python",
   "name": "python3"
  },
  "language_info": {
   "codemirror_mode": {
    "name": "ipython",
    "version": 3
   },
   "file_extension": ".py",
   "mimetype": "text/x-python",
   "name": "python",
   "nbconvert_exporter": "python",
   "pygments_lexer": "ipython3",
   "version": "3.6.0"
  }
 },
 "nbformat": 4,
 "nbformat_minor": 2
}
