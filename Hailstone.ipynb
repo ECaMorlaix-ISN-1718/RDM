{
 "cells": [
  {
   "cell_type": "markdown",
   "metadata": {
    "slideshow": {
     "slide_type": "slide"
    }
   },
   "source": [
    "## The Hailstone sequence: a mathematical mystery "
   ]
  },
  {
   "cell_type": "markdown",
   "metadata": {
    "slideshow": {
     "slide_type": "slide"
    }
   },
   "source": [
    "### Explication Hailstone sequence: "
   ]
  },
  {
   "cell_type": "markdown",
   "metadata": {
    "slideshow": {
     "slide_type": "subslide"
    }
   },
   "source": [
    "#### N'= N/2"
   ]
  },
  {
   "cell_type": "markdown",
   "metadata": {
    "slideshow": {
     "slide_type": "subslide"
    }
   },
   "source": [
    "#### N'= 3N+1"
   ]
  },
  {
   "cell_type": "markdown",
   "metadata": {
    "slideshow": {
     "slide_type": "subslide"
    }
   },
   "source": [
    "As an example we take the number 6"
   ]
  },
  {
   "cell_type": "code",
   "execution_count": null,
   "metadata": {
    "slideshow": {
     "slide_type": "subslide"
    }
   },
   "outputs": [],
   "source": [
    "n=6\n",
    "print(n)\n",
    "import time\n",
    "while n != 1:\n",
    "    time.sleep (1.5)\n",
    "    if n%2 == 0:\n",
    "        n = n/2\n",
    "    else:\n",
    "        n =(n*3)+1\n",
    "    print(n)"
   ]
  },
  {
   "cell_type": "markdown",
   "metadata": {
    "slideshow": {
     "slide_type": "slide"
    }
   },
   "source": [
    "### Programs"
   ]
  },
  {
   "cell_type": "markdown",
   "metadata": {
    "slideshow": {
     "slide_type": "slide"
    }
   },
   "source": [
    "#### First one"
   ]
  },
  {
   "cell_type": "code",
   "execution_count": null,
   "metadata": {
    "slideshow": {
     "slide_type": "subslide"
    }
   },
   "outputs": [],
   "source": [
    "for n in range(1,1001):\n",
    "    print(\"Sequence:\", n)\n",
    "    print(n)\n",
    "    while n != 1:\n",
    "        if n%2 == 0:\n",
    "            n = n/2\n",
    "        else:\n",
    "            n =(n*3)+1\n",
    "        print(n)"
   ]
  },
  {
   "cell_type": "markdown",
   "metadata": {
    "slideshow": {
     "slide_type": "slide"
    }
   },
   "source": [
    "#### Second one"
   ]
  },
  {
   "cell_type": "code",
   "execution_count": null,
   "metadata": {
    "slideshow": {
     "slide_type": "subslide"
    }
   },
   "outputs": [],
   "source": [
    "amount = 1\n",
    "amax = 0\n",
    "nmax=0\n",
    "np=0\n",
    "for n in range(1,1001):\n",
    "    print(\"Sequence:\", n)\n",
    "    np=n\n",
    "    while n != 1:\n",
    "\n",
    "        if n%2 == 0:\n",
    "        #print(n)\n",
    "           n = n/2\n",
    "        else:\n",
    "            n =(n*3)+1\n",
    "        amount=amount+1\n",
    "        \n",
    "        if amount-amax>0:\n",
    "            amax=amount\n",
    "            nmax=np\n",
    "          \n",
    "    #print (n)\n",
    "    print(\"In this sequence there are\", amount, \"steps\")\n",
    "    amount=1\n",
    "\n",
    "print(\"The maximum of numbers is\",amax,\"for n=\",nmax,)"
   ]
  }
 ],
 "metadata": {
  "celltoolbar": "Slideshow",
  "kernelspec": {
   "display_name": "Python 3",
   "language": "python",
   "name": "python3"
  },
  "language_info": {
   "codemirror_mode": {
    "name": "ipython",
    "version": 3
   },
   "file_extension": ".py",
   "mimetype": "text/x-python",
   "name": "python",
   "nbconvert_exporter": "python",
   "pygments_lexer": "ipython3",
   "version": "3.6.4"
  }
 },
 "nbformat": 4,
 "nbformat_minor": 2
}
