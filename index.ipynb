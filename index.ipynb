{
 "cells": [
  {
   "cell_type": "markdown",
   "metadata": {},
   "source": [
    "Tableau de Synthèse (matrice de choix) :\n",
    "\n",
    "|              | Acier | Aluminium | Plexiglas |\n",
    "|:------------:|:-----:|:---------:|:---------:|\n",
    "|  Equerre n°1 |       |    [](/)       |           |\n",
    "|  Equerre n°2 | [E2+ACIER](Jean-Marie/E2+ACIER.ipynb)      |           |           |\n",
    "| Equerre n° 3 |       |  [Geoffrey](Geoffrey/)         |           |\n",
    "|  Equerre n°4 |       |  [E4+ALU](Jean-Marie/E4+ALU.ipynb)         |           |"
   ]
  },
  {
   "cell_type": "code",
   "execution_count": null,
   "metadata": {
    "collapsed": true
   },
   "outputs": [],
   "source": []
  }
 ],
 "metadata": {
  "kernelspec": {
   "display_name": "Python 3",
   "language": "python",
   "name": "python3"
  },
  "language_info": {
   "codemirror_mode": {
    "name": "ipython",
    "version": 3
   },
   "file_extension": ".py",
   "mimetype": "text/x-python",
   "name": "python",
   "nbconvert_exporter": "python",
   "pygments_lexer": "ipython3",
   "version": "3.6.0"
  }
 },
 "nbformat": 4,
 "nbformat_minor": 2
}
