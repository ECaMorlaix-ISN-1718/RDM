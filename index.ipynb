{
 "cells": [
  {
   "cell_type": "markdown",
   "metadata": {},
   "source": [
    "Tableau de Synthèse (matrice de choix) :\n",
    "\n",
    "|              | Acier | Aluminium | Plexiglas |\n",
    "|:------------:|:-----:|:---------:|:---------:|\n",
    "|  Equerre n°1 |       | [Nora](NORA/E1Alu.ipynb)       |       [Nathan](Nathan/compte rendu.ipynb)    |\n",
    "|  Equerre n°2 | [Jean-Marie](Jean-Marie/E2+ACIER.ipynb)      |     [Killan](EquerreKillan/Equerre+2+ALU.ipynb)      |     [Guillaume](guillaume/conclusion_etude.ipynb)      |\n",
    "| Equerre n° 3 |   [Valentin](Valentin/EQ3_Acier.ipynb)    | [Geoffrey](Geoffrey/E3ALU.ipynb)         |  [Valentin](Valentin/EQ3_PMMA.ipynb)         |\n",
    "|  Equerre n°4 | [Nathan](Nathan/compte rendu.ipynb) | [Jean-Marie](Jean-Marie/E4+ALU.ipynb) | [Killan](EquerreKillan/Equerre4PMMA.ipynb)    |"
   ]
  },
  {
   "cell_type": "code",
   "execution_count": null,
   "metadata": {
    "collapsed": true
   },
   "outputs": [],
   "source": []
  }
 ],
 "metadata": {
  "kernelspec": {
   "display_name": "Python 3",
   "language": "python",
   "name": "python3"
  },
  "language_info": {
   "codemirror_mode": {
    "name": "ipython",
    "version": 3
   },
   "file_extension": ".py",
   "mimetype": "text/x-python",
   "name": "python",
   "nbconvert_exporter": "python",
   "pygments_lexer": "ipython3",
   "version": "3.6.0"
  }
 },
 "nbformat": 4,
 "nbformat_minor": 2
}
