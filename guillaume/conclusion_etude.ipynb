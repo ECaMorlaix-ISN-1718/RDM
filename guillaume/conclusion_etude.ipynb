{
 "cells": [
  {
   "cell_type": "markdown",
   "metadata": {},
   "source": [
    "# materieau: PMMA\n",
    "## equerre numero: 2"
   ]
  },
  {
   "cell_type": "markdown",
   "metadata": {},
   "source": [
    "contreinte | atendu | Equere2 PMMA \n",
    "--- | --- | --- \n",
    "masse maximale (g) | 200 | 62.01\n",
    "deplacement maximaux (mm) | 1 | 338.3\n",
    "elecitcite maximale eteint maximale (N.m^2) | 3.15.10^8 |4.344.10^8"
   ]
  },
  {
   "cell_type": "markdown",
   "metadata": {},
   "source": [
    "#### cette equere est que en acord avec la contreinte sur la masse mais survole just au dessu de lelaseticite et fait baucoup trop de deplacement\n"
   ]
  },
  {
   "cell_type": "markdown",
   "metadata": {},
   "source": [
    "![image](etudepmma1.png)"
   ]
  },
  {
   "cell_type": "markdown",
   "metadata": {},
   "source": [
    "![image](etudepmma2.png)"
   ]
  },
  {
   "cell_type": "markdown",
   "metadata": {},
   "source": [
    "![image](etudepmma3.png)"
   ]
  }
 ],
 "metadata": {
  "kernelspec": {
   "display_name": "Python 3",
   "language": "python",
   "name": "python3"
  },
  "language_info": {
   "codemirror_mode": {
    "name": "ipython",
    "version": 3
   },
   "file_extension": ".py",
   "mimetype": "text/x-python",
   "name": "python",
   "nbconvert_exporter": "python",
   "pygments_lexer": "ipython3",
   "version": "3.6.0"
  }
 },
 "nbformat": 4,
 "nbformat_minor": 2
}
