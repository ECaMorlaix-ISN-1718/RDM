{
 "cells": [
  {
   "cell_type": "markdown",
   "metadata": {},
   "source": [
    "<img src=\"https://image.noelshack.com/fichiers/2018/03/2/1516095746-ecam-lycee-notre-dame-du-mur.png\" alt=\"Logo du Lycee Notre Dame Du Mur\" width=50%>\n",
    "<h1>Rapport de l'étude RDM des équerres.</h1>"
   ]
  },
  {
   "cell_type": "markdown",
   "metadata": {},
   "source": [
    "<h2>Équerre N°3 - 1</h2>"
   ]
  },
  {
   "cell_type": "markdown",
   "metadata": {},
   "source": [
    "<table>\n",
    "  <thead>\n",
    "    <tr>\n",
    "      <th style=\"text-align:center\">     </th>\n",
    "      <th>Matériau</th>\n",
    "      <th style=\"text-align:center\">Masse</th>\n",
    "      <th style=\"text-align:right\">Déplacement</th>\n",
    "      <th style=\"text-align:right\">Élasticité maximale atteinte</th>\n",
    "    </tr>\n",
    "  </thead>\n",
    "  <tbody>\n",
    "    <tr>\n",
    "      <th style=\"text-align:center\">Résultats</th>\n",
    "      <td>Acier 1020</td>\n",
    "      <td style=\"text-align:center\">526 g</td>\n",
    "      <td style=\"text-align:center\">0.43 mm</td>\n",
    "      <td style=\"text-align:right\">8.3 x 10^7</td>\n",
    "    </tr>\n",
    "    <tr>\n",
    "      <th style=\"text-align:center\">Contraintes</th>\n",
    "      <td></td>\n",
    "      <td style=\"text-align:center\">200 g max.</td>\n",
    "      <td style=\"text-align:center\">Moins d'1 mm</td>\n",
    "      <td style=\"text-align:right\">Moins de 315 x 10^8</td>\n",
    "    </tr>\n",
    "  </tbody>\n",
    "</table>"
   ]
  },
  {
   "cell_type": "markdown",
   "metadata": {},
   "source": [
    "<img src=\"https://image.noelshack.com/fichiers/2018/03/2/1516095630-equerer2.png\" alt=\"Équerre 3 Acier - 1\" width=50%>"
   ]
  }
 ],
 "metadata": {
  "kernelspec": {
   "display_name": "Python 3",
   "language": "python",
   "name": "python3"
  },
  "language_info": {
   "codemirror_mode": {
    "name": "ipython",
    "version": 3
   },
   "file_extension": ".py",
   "mimetype": "text/x-python",
   "name": "python",
   "nbconvert_exporter": "python",
   "pygments_lexer": "ipython3",
   "version": "3.6.0"
  }
 },
 "nbformat": 4,
 "nbformat_minor": 2
}
