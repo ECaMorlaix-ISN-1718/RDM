{
 "cells": [
  {
   "cell_type": "markdown",
   "metadata": {},
   "source": [
    "<img src=\"https://image.noelshack.com/fichiers/2018/03/2/1516095746-ecam-lycee-notre-dame-du-mur.png\" alt=\"Logo du Lycee Notre Dame Du Mur\" width=50%>\n",
    "<h1>Rapport de l'étude RDM des équerres.</h1>"
   ]
  },
  {
   "cell_type": "markdown",
   "metadata": {},
   "source": [
    "<h2>Équerre N°3 - 1</h2>"
   ]
  },
  {
   "cell_type": "markdown",
   "metadata": {},
   "source": [
    "<table>\n",
    "  <thead>\n",
    "    <tr>\n",
    "      <th>Matériau</th>\n",
    "      <th style=\"text-align:center\">Masse</th>\n",
    "      <th style=\"text-align:right\">Déplacement</th>\n",
    "      <th style=\"text-align:right\">Élasticité maximale atteinte</th>\n",
    "    </tr>\n",
    "  </thead>\n",
    "  <tbody>\n",
    "    <tr>\n",
    "      <td>Acier 1020</td>\n",
    "      <td style=\"text-align:center\">526 g</td>\n",
    "      <td style=\"text-align:center\">0.43 mm</td>\n",
    "      <td style=\"text-align:right\">8.3 x 10^7</td>\n",
    "    </tr>\n",
    "  </tbody>\n",
    "</table>"
   ]
  },
  {
   "cell_type": "markdown",
   "metadata": {},
   "source": [
    "Contrainte de déplacement et de limite d'élasticité respectées.<br>\n",
    "Déplacement inférieur à 1 mm et élasticité inférieure à 315 x 10^8<br>\n",
    "Contrainte de masse non-respectée. Supérieure à 200 g."
   ]
  },
  {
   "cell_type": "markdown",
   "metadata": {},
   "source": [
    "<img src=\"https://image.noelshack.com/fichiers/2018/03/2/1516095630-equerer2.png\" alt=\"Équerre 3 Acier - 1\" width=50%>"
   ]
  },
  {
   "cell_type": "markdown",
   "metadata": {},
   "source": [
    "<h2>Équerre N°3 - 2</h2>"
   ]
  },
  {
   "cell_type": "markdown",
   "metadata": {},
   "source": [
    "<table>\n",
    "  <thead>\n",
    "    <tr>\n",
    "      <th>Matériau</th>\n",
    "      <th style=\"text-align:center\">Masse</th>\n",
    "      <th style=\"text-align:right\">Déplacement</th>\n",
    "      <th style=\"text-align:right\">Élasticité maximale atteinte</th>\n",
    "    </tr>\n",
    "  </thead>\n",
    "  <tbody>\n",
    "    <tr>\n",
    "      <td>PMMA</td>\n",
    "      <td style=\"text-align:center\">79.29 g</td>\n",
    "      <td style=\"text-align:center\">3.2 x 10^1</td>\n",
    "      <td style=\"text-align:right\">1.1 x 10^8</td>\n",
    "    </tr>\n",
    "  </tbody>\n",
    "</table>\n"
   ]
  },
  {
   "cell_type": "markdown",
   "metadata": {},
   "source": [
    "La contrainte de masse est respectée.<br>\n",
    "Masse inférieure à 200 g.<br>\n",
    "Contrainte de déplacement non-respectée.<br>\n",
    "Supérieure à 1 mm.<br>\n",
    "Contraite d'élasticité inconnu sur ce matériau."
   ]
  },
  {
   "cell_type": "markdown",
   "metadata": {},
   "source": [
    "<img src=\"https://image.noelshack.com/fichiers/2018/03/2/1516095631-equerer31.png\" alt=\"Équerre 3 PMMA - 1\" width=50%>"
   ]
  },
  {
   "cell_type": "markdown",
   "metadata": {},
   "source": [
    "<img src=\"https://image.noelshack.com/fichiers/2018/03/2/1516095631-equerer32.png\" alt=\"Équerre 3 PMMA - 2\" width=50%>"
   ]
  }
 ],
 "metadata": {
  "kernelspec": {
   "display_name": "Python 3",
   "language": "python",
   "name": "python3"
  },
  "language_info": {
   "codemirror_mode": {
    "name": "ipython",
    "version": 3
   },
   "file_extension": ".py",
   "mimetype": "text/x-python",
   "name": "python",
   "nbconvert_exporter": "python",
   "pygments_lexer": "ipython3",
   "version": "3.6.0"
  }
 },
 "nbformat": 4,
 "nbformat_minor": 2
}
